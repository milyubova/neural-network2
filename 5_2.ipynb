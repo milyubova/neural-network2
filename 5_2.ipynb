{
 "cells": [
  {
   "cell_type": "code",
   "execution_count": 1,
   "metadata": {},
   "outputs": [],
   "source": [
    "import operator\n",
    "import random\n",
    "from IPython.display import clear_output"
   ]
  },
  {
   "cell_type": "code",
   "execution_count": 2,
   "metadata": {},
   "outputs": [
    {
     "name": "stdout",
     "output_type": "stream",
     "text": [
      "Грузоподъемность рюкзака: 13000\n",
      "Вместимость рюкзака: 12\n"
     ]
    }
   ],
   "source": [
    "# путь к файлу с исходными данными\n",
    "path = \"9.txt\"\n",
    "\n",
    "data = []\n",
    "\n",
    "# грузоподъемность рюкзака\n",
    "maxW = 0\n",
    "# ценность рюкзака\n",
    "maxV = 0\n",
    "\n",
    "\n",
    "fRow = True\n",
    "with open(path, \"r\") as file:\n",
    "    for i in file:\n",
    "        # первая строка с параметрами рюкзака\n",
    "        if (fRow):\n",
    "            fRow = False\n",
    "            maxW, maxV = i.split()\n",
    "            # кастуем к integer\n",
    "            maxW = int(maxW)\n",
    "            maxV = int(maxV)\n",
    "        # остальные строки с параметрами предметов\n",
    "        else:\n",
    "            data.append(i.split())\n",
    "\n",
    "print(\"Грузоподъемность рюкзака: \" + str(maxW))\n",
    "print(\"Вместимость рюкзака: \" + str(maxV))"
   ]
  },
  {
   "cell_type": "code",
   "execution_count": 3,
   "metadata": {},
   "outputs": [],
   "source": [
    "# вес\n",
    "w = []\n",
    "# объем\n",
    "v = []\n",
    "# цэ - цЭнность :)\n",
    "c = []\n",
    "\n",
    "for i in range(len(data)):\n",
    "    w.append(int(data[i][0]))\n",
    "    v.append(float(data[i][1]))\n",
    "    c.append(int(data[i][2]))\n",
    "    \n",
    "data = list(zip(w, v, c))"
   ]
  },
  {
   "cell_type": "code",
   "execution_count": 4,
   "metadata": {},
   "outputs": [],
   "source": [
    "def randomParents(start, stop, count):\n",
    "    # Получаем неповторяющиеся случайные числа\n",
    "    gamma = []\n",
    "    for i in range(0, count):\n",
    "        while True:\n",
    "            item = random.randint(start, stop)\n",
    "            if not gamma.count(item):\n",
    "                gamma.append(item)\n",
    "                yield item\n",
    "                break"
   ]
  },
  {
   "cell_type": "code",
   "execution_count": 5,
   "metadata": {},
   "outputs": [],
   "source": [
    "def paramsFromGenome(genome):\n",
    "    w = 0\n",
    "    v = 0\n",
    "    c = 0\n",
    "    for i in range(len(genome)):\n",
    "        if(int(genome[i])):\n",
    "            w += data[i][0]\n",
    "            v += data[i][1]\n",
    "            c += data[i][2]\n",
    "    return {\"genome\": genome,\n",
    "            \"w\": w,\n",
    "            \"v\": v,\n",
    "            \"c\": c}"
   ]
  },
  {
   "cell_type": "code",
   "execution_count": 6,
   "metadata": {},
   "outputs": [],
   "source": [
    "def generateIndivid(itemArr):\n",
    "    individ = \"\"\n",
    "    w = 0\n",
    "    v = 0\n",
    "    c = 0\n",
    "    \n",
    "    for i in range(len(itemArr)):\n",
    "        rnd = random.randint(0, 1)\n",
    "        if (rnd):\n",
    "            w += itemArr[i][0]\n",
    "            v += itemArr[i][1]\n",
    "            c += itemArr[i][2]\n",
    "            \n",
    "        individ += str(rnd)\n",
    "    return {\"genome\": individ,\n",
    "            \"w\": w,\n",
    "            \"v\": v,\n",
    "            \"c\": c}"
   ]
  },
  {
   "cell_type": "code",
   "execution_count": 7,
   "metadata": {},
   "outputs": [],
   "source": [
    "def selection(population):\n",
    "    totalCost = sum(i[\"c\"] for i in population)\n",
    "    populationCrossover = []\n",
    "    for index, individual in enumerate(population):\n",
    "        probability = individual[\"c\"] / totalCost\n",
    "        roulette = random.random()\n",
    "        if (probability <= roulette and individual[\"v\"] <= maxV and individual[\"w\"] <= maxW):\n",
    "            populationCrossover.append(individual)\n",
    "    return populationCrossover"
   ]
  },
  {
   "cell_type": "code",
   "execution_count": 8,
   "metadata": {},
   "outputs": [],
   "source": [
    "def merge(p1, p2, rDots):\n",
    "    \n",
    "    fChildGenome = p1[\"genome\"][:rDots[0]] + p2[\"genome\"][rDots[0]:rDots[1]] + p1[\"genome\"][rDots[1]:rDots[2]] + p2[\"genome\"][rDots[2]:]\n",
    "    sСhildGenome = p2[\"genome\"][:rDots[0]] + p1[\"genome\"][rDots[0]:rDots[1]] + p2[\"genome\"][rDots[1]:rDots[2]] + p1[\"genome\"][rDots[2]:]\n",
    "    \n",
    "    fChild = paramsFromGenome(fChildGenome)\n",
    "    sChild = paramsFromGenome(sСhildGenome)\n",
    "    \n",
    "    return [fChild, sChild]\n",
    "    \n",
    "def reproduction(parentPopulation):\n",
    "    randomQueue = list(randomParents(0, len(parentPopulation) - 1, len(parentPopulation)))\n",
    "    randomDots = sorted(list(randomParents(0, 28, 3)))\n",
    "    newPopulation = []\n",
    "    alone = 0\n",
    "    for i in range(0, len(randomQueue), 2):\n",
    "        try:\n",
    "            newPopulation = newPopulation + merge(parentPopulation[randomQueue[i]], parentPopulation[randomQueue[i + 1]], randomDots)\n",
    "        except:\n",
    "            alone += 1\n",
    "    return newPopulation"
   ]
  },
  {
   "cell_type": "code",
   "execution_count": 9,
   "metadata": {},
   "outputs": [],
   "source": [
    "def mutation(population, pp=10):\n",
    "    resPop = population\n",
    "    individs = list(randomParents(0, len(population) - 1, int(len(population) / 10)))\n",
    "    for i in individs:\n",
    "        ones = []\n",
    "        for ch in range(len(resPop[i][\"genome\"])):\n",
    "            if (resPop[i][\"genome\"][ch] == \"0\"):\n",
    "                ones.append(ch)\n",
    "        mutated = ones[random.randint(0, len(ones) - 1)]\n",
    "        resPop[i][\"genome\"] = resPop[i][\"genome\"][:(mutated)] + \"1\" + resPop[i][\"genome\"][(mutated + 1):]\n",
    "\n",
    "    return resPop"
   ]
  },
  {
   "cell_type": "code",
   "execution_count": 10,
   "metadata": {},
   "outputs": [],
   "source": [
    "def newPopGen(parent, mutated):\n",
    "    nParent = []\n",
    "    for i in parent:\n",
    "        i[\"c\"] = i[\"c\"] * 0.8\n",
    "        nParent.append(i)\n",
    "    newPopulation = nParent + mutated\n",
    "    newPopulation = sorted(newPopulation, key = lambda i: i['c'],reverse=True)\n",
    "    newPopulation = newPopulation[:200]\n",
    "    \n",
    "    index = 0\n",
    "    while (len(newPopulation) < 200):\n",
    "        nInd = newPopulation[index]\n",
    "        newPopulation.append(nInd)\n",
    "        index += 1\n",
    "    return newPopulation\n",
    "    "
   ]
  },
  {
   "cell_type": "code",
   "execution_count": 11,
   "metadata": {},
   "outputs": [],
   "source": [
    "generateIndivid(data)\n",
    "populationNumber = 200\n",
    "population = []\n",
    "\n",
    "for i in range(populationNumber):\n",
    "    population.append(generateIndivid(data))"
   ]
  },
  {
   "cell_type": "code",
   "execution_count": 12,
   "metadata": {},
   "outputs": [
    {
     "name": "stdout",
     "output_type": "stream",
     "text": [
      "4431\n",
      "10.8\n",
      "12985\n"
     ]
    }
   ],
   "source": [
    "iterCount = 500\n",
    "\n",
    "for i in range(iterCount):\n",
    "    print(\"Итерация: \" + str(i) + \"/\" + str(iterCount))\n",
    "    \n",
    "    parentPopulation = selection(population)\n",
    "    childPopulation = reproduction(parentPopulation)\n",
    "    mutatedPopulation = mutation(childPopulation)\n",
    "    population = newPopGen(parentPopulation, mutatedPopulation)\n",
    "    \n",
    "    clear_output()\n",
    "\n",
    "population = selection(population)\n",
    "population = sorted(population, key = lambda i: i[\"c\"],reverse=True)\n",
    "print(population[0][\"c\"])\n",
    "print(population[0][\"v\"])\n",
    "print(population[0][\"w\"])"
   ]
  },
  {
   "cell_type": "code",
   "execution_count": null,
   "metadata": {},
   "outputs": [],
   "source": []
  }
 ],
 "metadata": {
  "kernelspec": {
   "display_name": "Python 3",
   "language": "python",
   "name": "python3"
  },
  "language_info": {
   "codemirror_mode": {
    "name": "ipython",
    "version": 3
   },
   "file_extension": ".py",
   "mimetype": "text/x-python",
   "name": "python",
   "nbconvert_exporter": "python",
   "pygments_lexer": "ipython3",
   "version": "3.7.4"
  }
 },
 "nbformat": 4,
 "nbformat_minor": 2
}
