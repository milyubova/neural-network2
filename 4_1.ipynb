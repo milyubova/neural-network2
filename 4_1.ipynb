{
 "cells": [
  {
   "cell_type": "code",
   "execution_count": 64,
   "metadata": {},
   "outputs": [],
   "source": [
    "import itertools\n",
    "import datetime"
   ]
  },
  {
   "cell_type": "markdown",
   "metadata": {},
   "source": [
    "## Task 1"
   ]
  },
  {
   "cell_type": "code",
   "execution_count": 28,
   "metadata": {},
   "outputs": [
    {
     "name": "stdout",
     "output_type": "stream",
     "text": [
      "Квадраты чисел: [4, 16, 36, 64, 100]\n"
     ]
    }
   ],
   "source": [
    "def evenSquare(arr):\n",
    "    #фильтруем четные числа и приводим к списку\n",
    "    even = list(filter(lambda x : x % 2 == 0, arr))\n",
    "    #возводим в квадрат все числа, мапим и приводим к списку\n",
    "    return list(map(lambda x: x**2, even))\n",
    "\n",
    "nums = range(1,11)\n",
    "sqr = evenSquare(nums)\n",
    "print('Квадраты чисел: ' + str(sqr))"
   ]
  },
  {
   "cell_type": "markdown",
   "metadata": {},
   "source": [
    "## Task 2"
   ]
  },
  {
   "cell_type": "code",
   "execution_count": 30,
   "metadata": {},
   "outputs": [
    {
     "name": "stdout",
     "output_type": "stream",
     "text": [
      "без list comprehensions: Liha\n",
      "с list comprehensions: Liha\n"
     ]
    }
   ],
   "source": [
    "string = 'London is the capital of Great Britain.'\n",
    "indexs = [0, 7, 11, 15]"
   ]
  },
  {
   "cell_type": "code",
   "execution_count": 31,
   "metadata": {},
   "outputs": [],
   "source": [
    "#list comprehensions\n",
    "def listComprSubstr(string, iArr):\n",
    "    return ''.join([string[ind] for ind in iArr])"
   ]
  },
  {
   "cell_type": "code",
   "execution_count": 32,
   "metadata": {},
   "outputs": [],
   "source": [
    "#without list comprehensions\n",
    "def noListComprSubstr(string, iArr):\n",
    "    result = ''\n",
    "    for i in iArr:\n",
    "        try:\n",
    "            result += string[index]\n",
    "        except IndexError:\n",
    "            print(str(index) + ' - bad index')\n",
    "    return result"
   ]
  },
  {
   "cell_type": "code",
   "execution_count": null,
   "metadata": {},
   "outputs": [],
   "source": [
    "outA = listComprSubstr(string, indexes) \n",
    "outB = noListComprSubstr(string, indexes) \n",
    "print('with list comprehensions: ' + outA)\n",
    "print('without list comprehensions: ' + outB)"
   ]
  },
  {
   "cell_type": "markdown",
   "metadata": {},
   "source": [
    "## Task 3"
   ]
  },
  {
   "cell_type": "code",
   "execution_count": 45,
   "metadata": {},
   "outputs": [
    {
     "name": "stdout",
     "output_type": "stream",
     "text": [
      "Результат: \n",
      "London is the capital of great britain. I am okay.\n"
     ]
    }
   ],
   "source": [
    "text = 'lONdoN is tHE CaPiTaL of GReaT BriTAIn. i AM oKAY.'\n",
    "\n",
    "def task_3(text):\n",
    "    result = []\n",
    "    sentence_arr = text.split('.')\n",
    "    for sentence in sentence_arr:\n",
    "        if (sentence == \"\"):\n",
    "            continue;\n",
    "        sentence = sentence.strip()\n",
    "        result.append(sentence[0].upper() + sentence[1:].lower())\n",
    "    return '. '.join(result) + \".\"\n",
    "\n",
    "res = task_3(text)\n",
    "print('Результат: ')\n",
    "print(res)"
   ]
  },
  {
   "cell_type": "markdown",
   "metadata": {},
   "source": [
    "## Task 4"
   ]
  },
  {
   "cell_type": "code",
   "execution_count": 58,
   "metadata": {},
   "outputs": [
    {
     "name": "stdout",
     "output_type": "stream",
     "text": [
      "результат: 20\n"
     ]
    }
   ],
   "source": [
    "def task_4(function, iterable, initializer = None):\n",
    "    #создаем итератор из списка\n",
    "    iterator = iter(iterable)\n",
    "    \n",
    "    #Учитываем, если есть, начальное значение\n",
    "    if (initializer == None):\n",
    "        prev_value = next(iterator)\n",
    "    else:\n",
    "        prev_value = initializer\n",
    "    #Для всех iterable выполняем function\n",
    "    for value in iterator:\n",
    "        prev_value = function(prev_value, value)\n",
    "    \n",
    "    return prev_value\n",
    "\n",
    "result = task_4(lambda x, y: x+y, [1, 2, 3, 4, 5], 5)\n",
    "print('результат: ' + str(result))"
   ]
  },
  {
   "cell_type": "markdown",
   "metadata": {},
   "source": [
    "## Task 5"
   ]
  },
  {
   "cell_type": "code",
   "execution_count": 60,
   "metadata": {},
   "outputs": [
    {
     "name": "stdout",
     "output_type": "stream",
     "text": [
      "результат: \n",
      "3\n",
      "6\n",
      "9\n",
      "12\n",
      "15\n"
     ]
    }
   ],
   "source": [
    "def pipeline_each(functions, iterable):\n",
    "    for value in iterable:\n",
    "        yield pipeline(functions, value)\n",
    "\n",
    "#применяем к числу все функции\n",
    "def pipeline(functions, value):\n",
    "    for function in functions:\n",
    "        value = function(value)\n",
    "    return value\n",
    "       \n",
    "#список функций\n",
    "functions = [\n",
    "    lambda x: x + 2,\n",
    "    lambda x: x - 1,\n",
    "    lambda x: x * 3\n",
    "]\n",
    "values = range(5)\n",
    "print('результат: ')\n",
    "for value in pipeline_each(functions, values):\n",
    "    print(value)"
   ]
  },
  {
   "cell_type": "markdown",
   "metadata": {},
   "source": [
    "## Task 6"
   ]
  },
  {
   "cell_type": "code",
   "execution_count": 55,
   "metadata": {},
   "outputs": [
    {
     "name": "stdout",
     "output_type": "stream",
     "text": [
      "результат: \n",
      "London\n",
      "is\n",
      "a\n",
      "capital\n",
      "of\n",
      "Great\n",
      "Britain\n"
     ]
    }
   ],
   "source": [
    "def task_6(text):\n",
    "    #разделяем слова по пробелам\n",
    "    text = text.split(' ')\n",
    "    for word in text:\n",
    "        yield word\n",
    "    \n",
    "string = 'London is a capital of Great Britain'\n",
    "print('результат: ')\n",
    "for word in task_6(string):\n",
    "    print(word)"
   ]
  },
  {
   "cell_type": "markdown",
   "metadata": {},
   "source": [
    "## Task 7"
   ]
  },
  {
   "cell_type": "code",
   "execution_count": 68,
   "metadata": {},
   "outputs": [
    {
     "name": "stdout",
     "output_type": "stream",
     "text": [
      "5 случайных чисел без установленного seed:\n",
      "19385\n",
      "1100\n",
      "2927\n",
      "28964\n",
      "10119\n",
      "\n",
      "5 случайных чисел с установленным seed:\n",
      "10884\n",
      "32297\n",
      "12108\n",
      "3746\n",
      "3356\n"
     ]
    }
   ],
   "source": [
    "def task_7 (seed = None):\n",
    "    #если seed'а нет, то берем дату в данный момент времени\n",
    "    if (seed == None):\n",
    "        seed = datetime.datetime.now().microsecond\n",
    "    while True:\n",
    "        seed = 8729 * seed % 32761;\n",
    "        yield seed\n",
    "\n",
    "\n",
    "print('5 случайных чисел без установленного seed:')\n",
    "res_a = task_7()\n",
    "for num in itertools.islice(res_a, 5):\n",
    "    print(num)\n",
    "print('')\n",
    "\n",
    "print('5 случайных чисел с установленным seed:')\n",
    "res_b = task_7(5)\n",
    "for num in itertools.islice(res_b, 5):\n",
    "    print(num)"
   ]
  },
  {
   "cell_type": "markdown",
   "metadata": {},
   "source": [
    "## Task 8"
   ]
  },
  {
   "cell_type": "code",
   "execution_count": 51,
   "metadata": {},
   "outputs": [
    {
     "name": "stdout",
     "output_type": "stream",
     "text": [
      "результат: \n",
      "num = 0\n",
      "num = 3\n",
      "num = 53\n",
      "num = 4\n",
      "num = 7\n"
     ]
    }
   ],
   "source": [
    "def Task_8():\n",
    "    cNum = 0\n",
    "    while True:\n",
    "        iNum = yield cNum\n",
    "        if (iNum != None):\n",
    "            cNum = iNum\n",
    "        cNum += 3\n",
    "        \n",
    "enum = deGenerator_2()\n",
    "print('результат: ')      \n",
    "print('num = ' + str(next(enum)))\n",
    "print('num = ' + str(next(enum)))\n",
    "print('num = ' + str(enum.send(50)))\n",
    "print('num = ' + str(enum.send(1)))\n",
    "print('num = ' + str(next(enum)))"
   ]
  },
  {
   "cell_type": "code",
   "execution_count": null,
   "metadata": {},
   "outputs": [],
   "source": []
  }
 ],
 "metadata": {
  "kernelspec": {
   "display_name": "Python 3",
   "language": "python",
   "name": "python3"
  },
  "language_info": {
   "codemirror_mode": {
    "name": "ipython",
    "version": 3
   },
   "file_extension": ".py",
   "mimetype": "text/x-python",
   "name": "python",
   "nbconvert_exporter": "python",
   "pygments_lexer": "ipython3",
   "version": "3.7.3"
  }
 },
 "nbformat": 4,
 "nbformat_minor": 2
}
