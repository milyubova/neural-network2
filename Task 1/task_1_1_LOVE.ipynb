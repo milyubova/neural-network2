{
 "cells": [
  {
   "cell_type": "code",
   "execution_count": 1,
   "metadata": {},
   "outputs": [],
   "source": [
    "import csv\n",
    "import operator\n",
    "import json\n",
    "import math"
   ]
  },
  {
   "cell_type": "code",
   "execution_count": 2,
   "metadata": {},
   "outputs": [],
   "source": [
    "def read_CSV(path):\n",
    "    data = []\n",
    "    with open(path) as file:\n",
    "        reader = csv.reader(file)\n",
    "        for row in reader:\n",
    "            data.append(row[1:])\n",
    "    return data[1:]"
   ]
  },
  {
   "cell_type": "code",
   "execution_count": 3,
   "metadata": {},
   "outputs": [],
   "source": [
    "def sim(data, user_a, user_b):\n",
    "    chisl = 0\n",
    "    znam_a = 0\n",
    "    znam_b = 0\n",
    "    for i in range(len(data[0])):\n",
    "        if data[user_a][i] != -1 and data[user_b][i] != -1:\n",
    "            chisl += data[user_a][i] * data[user_b][i]\n",
    "            znam_a += data[user_a][i] ** 2\n",
    "            znam_b += data[user_b][i] ** 2\n",
    "    result = chisl / (math.sqrt(znam_a) * math.sqrt(znam_b))\n",
    "    return result"
   ]
  },
  {
   "cell_type": "code",
   "execution_count": 4,
   "metadata": {},
   "outputs": [],
   "source": [
    "def most_similars(data, user):\n",
    "        needed = []\n",
    "        for v in range(len(data)):\n",
    "            if user != v:\n",
    "                needed.append((v, sim(data, user, v)))\n",
    "        needed = sorted(needed, key=operator.itemgetter(1), reverse=True);\n",
    "        return needed"
   ]
  },
  {
   "cell_type": "code",
   "execution_count": 5,
   "metadata": {},
   "outputs": [],
   "source": [
    "def avg_watched(data, user):\n",
    "    chisl = sum(i for i in data[user] if i != -1)\n",
    "    znam = sum(1 for i in data[user] if i != -1)\n",
    "    result = chisl / znam\n",
    "    return result"
   ]
  },
  {
   "cell_type": "code",
   "execution_count": 6,
   "metadata": {},
   "outputs": [],
   "source": [
    "def r_ui(data, user, film, k):\n",
    "    result = 0\n",
    "    chisl = 0\n",
    "    znam = 0\n",
    "\n",
    "    r_u = avg_watched(data, user)\n",
    "    \n",
    "    counter = 0\n",
    "    for v in most_similars(data, user):\n",
    "        if counter == k: break\n",
    "        if data[v[0]][film] != -1:\n",
    "            r_v = avg_watched(data, v[0])\n",
    "            chisl += v[1] * ((data[v[0]][film]) - r_v)\n",
    "            znam += abs(v[1])\n",
    "            counter += 1\n",
    "    result = chisl / znam + r_u\n",
    "    return result"
   ]
  },
  {
   "cell_type": "code",
   "execution_count": 7,
   "metadata": {},
   "outputs": [],
   "source": [
    "def prepare_output(data, context_place, context_day, k):\n",
    "    best = {}\n",
    "    grades = {}\n",
    "    prepared = []\n",
    "    for user_i in range(len(data)):\n",
    "        task_1 = {}\n",
    "        for film_i in range(len(data[user_i])):\n",
    "            if data[user_i][film_i] == -1:\n",
    "                task_1[\"movie \" + str(film_i + 1)] = round(r_ui(data, user_i, film_i, k), 3)\n",
    "                if not (user_i + 1 in grades):\n",
    "                    grades[user_i + 1] = {}\n",
    "                grades[user_i + 1][\"movie \" + str(film_i + 1)] = round(r_ui(data, user_i, film_i, k), 3)\n",
    "        task_2 = {}\n",
    "        for user_s in most_similars(data, user_i):\n",
    "            if user_i + 1 in best: break\n",
    "            for film_i in range(len(data[user_i])):\n",
    "                if data[user_i][film_i] == -1 and context_place[user_s[0]][film_i] == \" h\" and \\\n",
    "                    (context_day[user_s[0]][film_i] == \" Sat\" or context_day[user_s[0]][film_i] == \" Sun\") and \\\n",
    "                    data[user_s[0]][film_i] > avg_watched(data, user_s[0]):\n",
    "                    best[user_i + 1] = \"movie: \" + str(film_i + 1)\n",
    "                    task_2[\"movie \" + str(film_i + 1)] = grades[user_i + 1]['movie ' + str(film_i + 1)]\n",
    "                    break\n",
    "        tmp = {'user': user_i + 1, 1: task_1, 2: task_2}\n",
    "        prepared.append(tmp)\n",
    "    return prepared\n",
    "    "
   ]
  },
  {
   "cell_type": "code",
   "execution_count": 8,
   "metadata": {},
   "outputs": [
    {
     "name": "stdout",
     "output_type": "stream",
     "text": [
      "Input user ID: 1\n"
     ]
    }
   ],
   "source": [
    "data = []\n",
    "for i in read_CSV(\"data.csv\"):    \n",
    "    data.append(list(map(int, i)))\n",
    "context_place = read_CSV(\"context_place.csv\")\n",
    "context_day = read_CSV(\"context_day.csv\")\n",
    "\n",
    "user_id = int(input(\"Input user ID: \"))\n",
    "users = prepare_output(data, context_place, context_day, 4)\n",
    "cur_user = json.dumps(users[user_id - 1])\n",
    "\n",
    "json_file = open(\"output.json\",'w')\n",
    "json_file.write(cur_user)\n",
    "json_file.close()"
   ]
  },
  {
   "cell_type": "code",
   "execution_count": null,
   "metadata": {},
   "outputs": [],
   "source": []
  }
 ],
 "metadata": {
  "kernelspec": {
   "display_name": "Python 3",
   "language": "python",
   "name": "python3"
  },
  "language_info": {
   "codemirror_mode": {
    "name": "ipython",
    "version": 3
   },
   "file_extension": ".py",
   "mimetype": "text/x-python",
   "name": "python",
   "nbconvert_exporter": "python",
   "pygments_lexer": "ipython3",
   "version": "3.7.4"
  }
 },
 "nbformat": 4,
 "nbformat_minor": 2
}
