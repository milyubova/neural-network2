{
 "cells": [
  {
   "cell_type": "code",
   "execution_count": 12,
   "metadata": {},
   "outputs": [],
   "source": [
    "import csv\n",
    "import operator\n",
    "import json\n",
    "import numpy as np"
   ]
  },
  {
   "cell_type": "code",
   "execution_count": 13,
   "metadata": {},
   "outputs": [],
   "source": [
    "def readFromCSV(csvPath):\n",
    "    data = []\n",
    "    with open(csvPath) as csvfile:\n",
    "        reader = csv.reader(csvfile)\n",
    "        for row in reader:\n",
    "            data.append(row)\n",
    "    finalData = []\n",
    "    for row in data[1:]:\n",
    "        finalData.append(row[1:])\n",
    "    return finalData"
   ]
  },
  {
   "cell_type": "code",
   "execution_count": 14,
   "metadata": {},
   "outputs": [],
   "source": [
    "def sim(data, u: int, v: int):\n",
    "    chisl = 0\n",
    "    znam_1 = 0\n",
    "    znam_2 = 0\n",
    "    for i in range(len(data[0])):\n",
    "        if data[u][i] != -1 and data[v][i] != -1:\n",
    "            chisl += data[u][i] * data[v][i]\n",
    "            znam_1 += data[u][i] ** 2\n",
    "            znam_2 += data[v][i] ** 2\n",
    "    result = chisl / (np.sqrt(znam_1) * np.sqrt(znam_2))\n",
    "    return result"
   ]
  },
  {
   "cell_type": "code",
   "execution_count": 15,
   "metadata": {},
   "outputs": [],
   "source": [
    "def mostSimilars(data, user):\n",
    "        needed = []\n",
    "        for v in range(0, len(data)):\n",
    "            if user != v:\n",
    "                needed.append((v, sim(data, user, v)))\n",
    "        needed = sorted(needed, key=operator.itemgetter(1), reverse=True);\n",
    "        return needed"
   ]
  },
  {
   "cell_type": "code",
   "execution_count": 16,
   "metadata": {},
   "outputs": [],
   "source": [
    "def avg_watched(data, user):\n",
    "    return sum(i for i in data[user] if i != -1) / sum(1 for i in data[user] if i != -1)"
   ]
  },
  {
   "cell_type": "code",
   "execution_count": 17,
   "metadata": {},
   "outputs": [],
   "source": [
    "def r_ui(data, user, film, k):\n",
    "    result = 0\n",
    "    chisl = 0\n",
    "    znam = 0\n",
    "\n",
    "    r_u = avg_watched(data, user)\n",
    "    \n",
    "    similar = mostSimilars(data, user)\n",
    "    \n",
    "    counter = 0\n",
    "    for v in similar:\n",
    "        if counter == k: break\n",
    "        if data[v[0]][film] != -1:\n",
    "            r_v = avg_watched(data, v[0])\n",
    "            chisl += v[1] * ((data[v[0]][film]) - r_v)\n",
    "            znam += np.abs(v[1])\n",
    "            counter += 1\n",
    "    result = chisl / znam + r_u\n",
    "    return result"
   ]
  },
  {
   "cell_type": "code",
   "execution_count": 18,
   "metadata": {},
   "outputs": [],
   "source": [
    "def finalize(data, context_place, context_day, k):\n",
    "    best = {}\n",
    "    grades = {}\n",
    "    json = []\n",
    "    for user_i in range(len(data)):\n",
    "        task_1 = {}\n",
    "        for film_i in range(len(data[user_i])):\n",
    "            if data[user_i][film_i] == -1:\n",
    "                task_1[\"movie \" + str(film_i + 1)] = round(r_ui(data, user_i, film_i, k), 3)\n",
    "                if not (user_i + 1 in grades):\n",
    "                    grades[user_i + 1] = {}\n",
    "                grades[user_i + 1][\"movie \" + str(film_i + 1)] = round(r_ui(data, user_i, film_i, k), 3)\n",
    "        task_2 = {}\n",
    "        for user_s in mostSimilars(data, user_i):\n",
    "            if user_i + 1 in best: break\n",
    "            for film_i in range(len(data[user_i])):\n",
    "                if data[user_i][film_i] == -1 and context_place[user_s[0]][film_i] == \" h\" and \\\n",
    "                    (context_day[user_s[0]][film_i] == \" Sat\" or context_day[user_s[0]][film_i] == \" Sun\") and \\\n",
    "                    data[user_s[0]][film_i] > avg_watched(data, user_s[0]):\n",
    "                    best[user_i + 1] = \"movie: \" + str(film_i + 1)\n",
    "                    task_2[\"movie \" + str(film_i + 1)] = grades[user_i + 1]['movie ' + str(film_i + 1)]\n",
    "                    break\n",
    "        tmp = {'user': user_i + 1, 1: task_1, 2: task_2}\n",
    "        json.append(tmp)\n",
    "    return json\n",
    "    "
   ]
  },
  {
   "cell_type": "code",
   "execution_count": 20,
   "metadata": {},
   "outputs": [
    {
     "name": "stdout",
     "output_type": "stream",
     "text": [
      "Input user ID: 1\n",
      "JSON created!\n"
     ]
    }
   ],
   "source": [
    "data = []\n",
    "for i in readFromCSV(\"data.csv\"):    \n",
    "    data.append(list(map(int, i)))\n",
    "context_place = readFromCSV(\"context_place.csv\")\n",
    "context_day = readFromCSV(\"context_day.csv\")\n",
    "\n",
    "user_id = int(input(\"Input user ID: \"))\n",
    "user = finalize(data, context_place, context_day, 4)\n",
    "final_json = json.dumps(user[user_id - 1])\n",
    "\n",
    "json_file = open(\"final.json\",'w')\n",
    "json_file.write(final_json)\n",
    "json_file.close()\n",
    "print(\"JSON created!\")"
   ]
  },
  {
   "cell_type": "code",
   "execution_count": null,
   "metadata": {},
   "outputs": [],
   "source": []
  }
 ],
 "metadata": {
  "kernelspec": {
   "display_name": "Python 3",
   "language": "python",
   "name": "python3"
  },
  "language_info": {
   "codemirror_mode": {
    "name": "ipython",
    "version": 3
   },
   "file_extension": ".py",
   "mimetype": "text/x-python",
   "name": "python",
   "nbconvert_exporter": "python",
   "pygments_lexer": "ipython3",
   "version": "3.7.4"
  }
 },
 "nbformat": 4,
 "nbformat_minor": 2
}
