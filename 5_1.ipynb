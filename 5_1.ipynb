{
 "cells": [
  {
   "cell_type": "code",
   "execution_count": 3,
   "metadata": {},
   "outputs": [],
   "source": [
    "from pyeasyga import pyeasyga\n",
    "path = \"src/9.txt\""
   ]
  },
  {
   "cell_type": "code",
   "execution_count": 4,
   "metadata": {},
   "outputs": [
    {
     "name": "stdout",
     "output_type": "stream",
     "text": [
      "(13000.0, 12.0)\n"
     ]
    },
    {
     "data": {
      "text/plain": [
       "[{'c': 356, 'v': 0.4, 'w': 816},\n",
       " {'c': 202, 'v': 0.5, 'w': 1236},\n",
       " {'c': 294, 'v': 0.5, 'w': 1391},\n",
       " {'c': 154, 'v': 1.1, 'w': 1073},\n",
       " {'c': 225, 'v': 0.9, 'w': 475},\n",
       " {'c': 315, 'v': 0.6, 'w': 1702},\n",
       " {'c': 178, 'v': 0.7, 'w': 1145},\n",
       " {'c': 356, 'v': 0.6, 'w': 1526},\n",
       " {'c': 317, 'v': 0.6, 'w': 1653},\n",
       " {'c': 175, 'v': 1.2, 'w': 1344},\n",
       " {'c': 369, 'v': 0.8, 'w': 1518},\n",
       " {'c': 345, 'v': 1.0, 'w': 770},\n",
       " {'c': 251, 'v': 0.6, 'w': 1216},\n",
       " {'c': 236, 'v': 0.5, 'w': 1550},\n",
       " {'c': 124, 'v': 1.0, 'w': 1535},\n",
       " {'c': 101, 'v': 0.7, 'w': 891},\n",
       " {'c': 370, 'v': 0.5, 'w': 149},\n",
       " {'c': 288, 'v': 1.0, 'w': 1323},\n",
       " {'c': 359, 'v': 0.7, 'w': 607},\n",
       " {'c': 130, 'v': 0.5, 'w': 579},\n",
       " {'c': 207, 'v': 0.6, 'w': 950},\n",
       " {'c': 317, 'v': 1.1, 'w': 1342},\n",
       " {'c': 124, 'v': 1.2, 'w': 858},\n",
       " {'c': 208, 'v': 0.5, 'w': 1609},\n",
       " {'c': 148, 'v': 0.9, 'w': 776},\n",
       " {'c': 343, 'v': 0.8, 'w': 1330},\n",
       " {'c': 309, 'v': 1.0, 'w': 1321},\n",
       " {'c': 384, 'v': 0.9, 'w': 128},\n",
       " {'c': 131, 'v': 0.8, 'w': 1389},\n",
       " {'c': 379, 'v': 1.1, 'w': 1343}]"
      ]
     },
     "execution_count": 4,
     "metadata": {},
     "output_type": "execute_result"
    }
   ],
   "source": [
    "with open(path) as f:\n",
    "    rawData = [x.strip() for x in f.readlines()]\n",
    "    \n",
    "capacities = [float(n) for n in rawData.pop(0).split()]\n",
    "print( capacities[0],  capacities[1])\n",
    "\n",
    "data = []\n",
    "for x in rawData:\n",
    "    data.append([float(n) for n in x.split()])\n",
    "knapsackData = []\n",
    "for i in data:\n",
    "    knapsackData.append({'w': int(i[0]), 'v': float(i[1]), 'c': int(i[2])})\n",
    "knapsackData"
   ]
  },
  {
   "cell_type": "code",
   "execution_count": 5,
   "metadata": {},
   "outputs": [],
   "source": [
    "def fitness(individual, data):\n",
    "    value, weight, volume = 0, 0, 0\n",
    "    for selected, box in zip(individual, data):\n",
    "        if selected:\n",
    "            volume += box.get('v')\n",
    "            weight += box.get('w')\n",
    "            value += box.get('c')\n",
    "    if weight > capacities[0] or volume > capacities[1]:\n",
    "        value = 0\n",
    "    return value\n",
    "\n",
    "genetic = pyeasyga.GeneticAlgorithm(knapsackData)\n",
    "genetic.population_size = 200\n",
    "\n",
    "genetic.fitness_function = fitness\n",
    "genetic.run()\n",
    "\n",
    "res = genetic.best_individual()"
   ]
  },
  {
   "cell_type": "code",
   "execution_count": 6,
   "metadata": {},
   "outputs": [
    {
     "name": "stdout",
     "output_type": "stream",
     "text": [
      "Ценность рюкзака: 4369\n",
      "Вес рюкзака: 12993\n",
      "Объем рюкзака: 10.7\n",
      "\n",
      "\n",
      "{'c': 356, 'w': 816, 'v': 0.4}\n",
      "{'c': 225, 'w': 475, 'v': 0.9}\n",
      "{'c': 356, 'w': 1526, 'v': 0.6}\n",
      "{'c': 317, 'w': 1653, 'v': 0.6}\n",
      "{'c': 369, 'w': 1518, 'v': 0.8}\n",
      "{'c': 345, 'w': 770, 'v': 1.0}\n",
      "{'c': 370, 'w': 149, 'v': 0.5}\n",
      "{'c': 288, 'w': 1323, 'v': 1.0}\n",
      "{'c': 359, 'w': 607, 'v': 0.7}\n",
      "{'c': 130, 'w': 579, 'v': 0.5}\n",
      "{'c': 148, 'w': 776, 'v': 0.9}\n",
      "{'c': 343, 'w': 1330, 'v': 0.8}\n",
      "{'c': 384, 'w': 128, 'v': 0.9}\n",
      "{'c': 379, 'w': 1343, 'v': 1.1}\n"
     ]
    }
   ],
   "source": [
    "selected = []\n",
    "for index, g in enumerate(res[1]):\n",
    "    if g == 1:\n",
    "        selected.append(knapsackData[index])\n",
    "        \n",
    "total_value = sum([item['c'] for item in selected])\n",
    "total_weight = sum([item['w'] for item in selected])\n",
    "total_volume = sum([item['v'] for item in selected])\n",
    "\n",
    "print(\"Ценность рюкзака: \" + str(total_value))\n",
    "print(\"Вес рюкзака: \" + str(total_weight))\n",
    "print(\"Объем рюкзака: \" + str(total_volume))\n",
    "print(\"\\n\")\n",
    "\n",
    "for i in selected:\n",
    "    print(i)"
   ]
  },
  {
   "cell_type": "code",
   "execution_count": null,
   "metadata": {},
   "outputs": [],
   "source": []
  }
 ],
 "metadata": {
  "kernelspec": {
   "display_name": "Python 2",
   "language": "python",
   "name": "python2"
  },
  "language_info": {
   "codemirror_mode": {
    "name": "ipython",
    "version": 2
   },
   "file_extension": ".py",
   "mimetype": "text/x-python",
   "name": "python",
   "nbconvert_exporter": "python",
   "pygments_lexer": "ipython2",
   "version": "2.7.17"
  }
 },
 "nbformat": 4,
 "nbformat_minor": 2
}
