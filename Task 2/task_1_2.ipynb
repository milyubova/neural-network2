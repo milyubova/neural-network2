{
 "cells": [
  {
   "cell_type": "code",
   "execution_count": 8,
   "metadata": {},
   "outputs": [
    {
     "name": "stdout",
     "output_type": "stream",
     "text": [
      "Enter user ID --> 65\n",
      "Estimating biases using als...\n",
      "Computing the cosine similarity matrix...\n",
      "Done computing similarity matrix.\n",
      "User 65:\n",
      "603  ('Rear Window (1954)', '01-Jan-1954')                        5\n",
      "480  ('North by Northwest (1959)', '01-Jan-1959')                 5\n",
      "57   ('Priest (1994)', '01-Jan-1994')                             5\n",
      "654  ('Chinatown (1974)', '01-Jan-1974')                          5\n",
      "523  ('Cool Hand Luke (1967)', '01-Jan-1967')                     5\n"
     ]
    }
   ],
   "source": [
    "from collections import defaultdict\n",
    "from surprise import KNNBaseline\n",
    "from surprise import Dataset\n",
    "from surprise import get_dataset_dir\n",
    "\n",
    "k = 4\n",
    "n = 5\n",
    "\n",
    "input_user_id = input('Enter user ID --> ')\n",
    "\n",
    "data = Dataset.load_builtin('ml-100k')\n",
    "trainset = data.build_full_trainset()\n",
    "sim_options = {'name': 'cosine', 'user_based': True, 'min_support': n}\n",
    "algo = KNNBaseline(k=4, sim_options=sim_options)\n",
    "algo.fit(trainset)\n",
    "\n",
    "testset = trainset.build_anti_testset()\n",
    "testset = filter(lambda x: x[0] == input_user_id, testset)\n",
    "predictions = algo.test(testset)\n",
    "\n",
    "def get_rid_to_item_mapping():\n",
    "    file_name = get_dataset_dir() + '/ml-100k/ml-100k/u.item'\n",
    "    rid_to_name = {}\n",
    "    with io.open(file_name, 'r', encoding='ISO-8859-1') as f:\n",
    "        for line in f:\n",
    "            line = line.split('|')\n",
    "            rid_to_name[line[0]] = (line[1], line[2])\n",
    "\n",
    "    return rid_to_name\n",
    "\n",
    "top_n = defaultdict(list)\n",
    "for uid, iid, _, est, _ in predictions:\n",
    "    top_n[uid].append((iid, round(est, 3)))\n",
    "\n",
    "for uid, user_ratings in top_n.items():\n",
    "    user_ratings.sort(key=lambda x: x[1], reverse=True)\n",
    "    top_n[uid] = user_ratings[:5]\n",
    "\n",
    "rid_to_item_mapping = get_rid_to_item_mapping()\n",
    "\n",
    "print(f'User {input_user_id}:')\n",
    "for movie_rid, rating in top_n[input_user_id]:\n",
    "    print('{:4s} {:<60s} {}'.format(movie_rid, str(rid_to_item_mapping[movie_rid]), rating))"
   ]
  },
  {
   "cell_type": "code",
   "execution_count": null,
   "metadata": {},
   "outputs": [],
   "source": []
  }
 ],
 "metadata": {
  "kernelspec": {
   "display_name": "Python 3",
   "language": "python",
   "name": "python3"
  },
  "language_info": {
   "codemirror_mode": {
    "name": "ipython",
    "version": 3
   },
   "file_extension": ".py",
   "mimetype": "text/x-python",
   "name": "python",
   "nbconvert_exporter": "python",
   "pygments_lexer": "ipython3",
   "version": "3.7.4"
  }
 },
 "nbformat": 4,
 "nbformat_minor": 2
}
